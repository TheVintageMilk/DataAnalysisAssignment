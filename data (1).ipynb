{
  "nbformat": 4,
  "nbformat_minor": 0,
  "metadata": {
    "colab": {
      "provenance": []
    },
    "kernelspec": {
      "name": "python3",
      "display_name": "Python 3"
    },
    "language_info": {
      "name": "python"
    }
  },
  "cells": [
    {
      "cell_type": "markdown",
      "source": [
        "Running application"
      ],
      "metadata": {
        "id": "mNd4O34C1P09"
      }
    },
    {
      "cell_type": "code",
      "execution_count": null,
      "metadata": {
        "id": "nocL42qz5AwM"
      },
      "outputs": [],
      "source": [
        "from google.colab import drive\n",
        "drive.mount('/content/drive')\n",
        "\n",
        "%cd '/content/drive/MyDrive/data assignment/merging'\n",
        "\n",
        "%ls\n",
        "\n",
        "!pip install streamlit\n",
        "\n",
        "!wget -q -O - ipv4.icanhazip.com\n",
        "\n",
        "\n",
        "!streamlit run app.py & npx localtunnel --port 8501"
      ]
    },
    {
      "cell_type": "markdown",
      "source": [
        "Merging used datasets"
      ],
      "metadata": {
        "id": "7jrEJvvd7WwO"
      }
    },
    {
      "cell_type": "code",
      "source": [
        "import pandas as pd\n",
        "\n",
        "# Define the specific file paths and their location types\n",
        "files_info = {\n",
        "    \"/content/merging/PRSA_Data_Dingling_20130301-20170228.csv\": \"Rural\",\n",
        "    \"/content/merging/PRSA_Data_Gucheng_20130301-20170228.csv\": \"Suburban\",\n",
        "    \"/content/merging/PRSA_Data_Nongzhanguan_20130301-20170228.csv\": \"Industrial\",\n",
        "    \"/content/merging/PRSA_Data_Tiantan_20130301-20170228.csv\": \"Urban\"\n",
        "}\n",
        "\n",
        "# Read and label each file\n",
        "dataframes = []\n",
        "for path, location in files_info.items():\n",
        "    df = pd.read_csv(path)\n",
        "    df['LocationType'] = location  # Add a column to tag location type\n",
        "    dataframes.append(df)\n",
        "\n",
        "# Merge all into a single DataFrame\n",
        "merged_df = pd.concat(dataframes, ignore_index=True)\n",
        "\n",
        "# Save the merged dataset to your workspace\n",
        "merged_df.to_csv(\"/content/merged_PRSA_data.csv\", index=False)\n",
        "missing = df.isnull().sum()\n",
        "\n",
        "print(\"Files successfully merged and saved as 'merged_PRSA_data.csv'\")\n"
      ],
      "metadata": {
        "id": "Gj7bWvfm7dXH"
      },
      "execution_count": null,
      "outputs": []
    }
  ]
}