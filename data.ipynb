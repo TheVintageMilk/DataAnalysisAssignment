{
  "nbformat": 4,
  "nbformat_minor": 0,
  "metadata": {
    "colab": {
      "provenance": []
    },
    "kernelspec": {
      "name": "python3",
      "display_name": "Python 3"
    },
    "language_info": {
      "name": "python"
    }
  },
  "cells": [
    {
      "cell_type": "markdown",
      "source": [
        "Running application"
      ],
      "metadata": {
        "id": "mNd4O34C1P09"
      }
    },
    {
      "cell_type": "code",
      "execution_count": null,
      "metadata": {
        "id": "nocL42qz5AwM"
      },
      "outputs": [],
      "source": [
        "from google.colab import drive\n",
        "drive.mount('/content/drive')\n",
        "\n",
        "%cd '/content/drive/MyDrive/data assignment/merging'\n",
        "\n",
        "%ls\n",
        "\n",
        "!pip install streamlit\n",
        "\n",
        "!wget -q -O - ipv4.icanhazip.com\n",
        "\n",
        "\n",
        "!streamlit run app.py & npx localtunnel --port 8501"
      ]
    }
  ]
}